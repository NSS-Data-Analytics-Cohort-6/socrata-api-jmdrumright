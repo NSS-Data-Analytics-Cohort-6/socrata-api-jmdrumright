{
 "cells": [
  {
   "cell_type": "markdown",
   "id": "92840d00",
   "metadata": {},
   "source": [
    "# Socrata API Project - Nashville.gov Top 500 Monthly Searches"
   ]
  },
  {
   "cell_type": "code",
   "execution_count": 1,
   "id": "5659026a",
   "metadata": {},
   "outputs": [],
   "source": [
    "import requests\n",
    "import matplotlib.pyplot as plt"
   ]
  },
  {
   "cell_type": "markdown",
   "id": "50de8191",
   "metadata": {},
   "source": [
    "### Q1. Make an API request that returns the months where \"fire\" was searched in 2016. Which month had the most searches?"
   ]
  },
  {
   "cell_type": "code",
   "execution_count": 2,
   "id": "c2b873dc",
   "metadata": {},
   "outputs": [],
   "source": [
    "endpoint = 'https://data.nashville.gov/resource/fuaa-r5cm.json?year=2016&query_text=fire'\n",
    "response = requests.get(endpoint)"
   ]
  },
  {
   "cell_type": "code",
   "execution_count": 3,
   "id": "f293955e",
   "metadata": {},
   "outputs": [
    {
     "data": {
      "text/plain": [
       "<Response [200]>"
      ]
     },
     "execution_count": 3,
     "metadata": {},
     "output_type": "execute_result"
    }
   ],
   "source": [
    "response"
   ]
  },
  {
   "cell_type": "code",
   "execution_count": 4,
   "id": "da6e8b08",
   "metadata": {
    "scrolled": false
   },
   "outputs": [
    {
     "data": {
      "text/plain": [
       "[{'month_name': 'January',\n",
       "  'year': '2016',\n",
       "  'query_count': '19',\n",
       "  'query_text': 'fire'},\n",
       " {'month_name': 'February',\n",
       "  'year': '2016',\n",
       "  'query_count': '35',\n",
       "  'query_text': 'fire'},\n",
       " {'month_name': 'March',\n",
       "  'year': '2016',\n",
       "  'query_count': '32',\n",
       "  'query_text': 'fire'},\n",
       " {'month_name': 'April',\n",
       "  'year': '2016',\n",
       "  'query_count': '26',\n",
       "  'query_text': 'fire'},\n",
       " {'month_name': 'May',\n",
       "  'year': '2016',\n",
       "  'query_count': '24',\n",
       "  'query_text': 'fire'},\n",
       " {'month_name': 'June',\n",
       "  'year': '2016',\n",
       "  'query_count': '31',\n",
       "  'query_text': 'fire'},\n",
       " {'month_name': 'July',\n",
       "  'year': '2016',\n",
       "  'query_count': '24',\n",
       "  'query_text': 'fire'},\n",
       " {'month_name': 'August',\n",
       "  'year': '2016',\n",
       "  'query_count': '47',\n",
       "  'query_text': 'fire'},\n",
       " {'month_name': 'September',\n",
       "  'year': '2016',\n",
       "  'query_count': '36',\n",
       "  'query_text': 'fire'},\n",
       " {'month_name': 'October',\n",
       "  'year': '2016',\n",
       "  'query_count': '38',\n",
       "  'query_text': 'fire'},\n",
       " {'month_name': 'November',\n",
       "  'year': '2016',\n",
       "  'query_count': '32',\n",
       "  'query_text': 'fire'},\n",
       " {'month_name': 'December',\n",
       "  'year': '2016',\n",
       "  'query_count': '38',\n",
       "  'query_text': 'fire'}]"
      ]
     },
     "execution_count": 4,
     "metadata": {},
     "output_type": "execute_result"
    }
   ],
   "source": [
    "res_2016_fire = response.json()\n",
    "res_2016_fire"
   ]
  },
  {
   "cell_type": "code",
   "execution_count": 5,
   "id": "4bbb80f3",
   "metadata": {},
   "outputs": [
    {
     "data": {
      "text/plain": [
       "[{'month_name': 'August',\n",
       "  'year': '2016',\n",
       "  'query_count': '47',\n",
       "  'query_text': 'fire'},\n",
       " {'month_name': 'December',\n",
       "  'year': '2016',\n",
       "  'query_count': '38',\n",
       "  'query_text': 'fire'},\n",
       " {'month_name': 'October',\n",
       "  'year': '2016',\n",
       "  'query_count': '38',\n",
       "  'query_text': 'fire'},\n",
       " {'month_name': 'September',\n",
       "  'year': '2016',\n",
       "  'query_count': '36',\n",
       "  'query_text': 'fire'},\n",
       " {'month_name': 'February',\n",
       "  'year': '2016',\n",
       "  'query_count': '35',\n",
       "  'query_text': 'fire'},\n",
       " {'month_name': 'March',\n",
       "  'year': '2016',\n",
       "  'query_count': '32',\n",
       "  'query_text': 'fire'},\n",
       " {'month_name': 'November',\n",
       "  'year': '2016',\n",
       "  'query_count': '32',\n",
       "  'query_text': 'fire'},\n",
       " {'month_name': 'June',\n",
       "  'year': '2016',\n",
       "  'query_count': '31',\n",
       "  'query_text': 'fire'},\n",
       " {'month_name': 'April',\n",
       "  'year': '2016',\n",
       "  'query_count': '26',\n",
       "  'query_text': 'fire'},\n",
       " {'month_name': 'July',\n",
       "  'year': '2016',\n",
       "  'query_count': '24',\n",
       "  'query_text': 'fire'},\n",
       " {'month_name': 'May',\n",
       "  'year': '2016',\n",
       "  'query_count': '24',\n",
       "  'query_text': 'fire'},\n",
       " {'month_name': 'January',\n",
       "  'year': '2016',\n",
       "  'query_count': '19',\n",
       "  'query_text': 'fire'}]"
      ]
     },
     "execution_count": 5,
     "metadata": {},
     "output_type": "execute_result"
    }
   ],
   "source": [
    "# Order results by query_count DESC to get the max query_count first\n",
    "endpoint = 'https://data.nashville.gov/resource/fuaa-r5cm.json?year=2016&query_text=fire&$order=query_count DESC'\n",
    "response = requests.get(endpoint)\n",
    "max_fire = response.json()\n",
    "max_fire"
   ]
  },
  {
   "cell_type": "code",
   "execution_count": 6,
   "id": "8f7455f9",
   "metadata": {},
   "outputs": [
    {
     "data": {
      "text/plain": [
       "[{'month_name': 'August',\n",
       "  'year': '2016',\n",
       "  'query_count': '47',\n",
       "  'query_text': 'fire'}]"
      ]
     },
     "execution_count": 6,
     "metadata": {},
     "output_type": "execute_result"
    }
   ],
   "source": [
    "# Limit 1 to get the month with the top query_count for 'fire'\n",
    "endpoint = 'https://data.nashville.gov/resource/fuaa-r5cm.json?year=2016&query_text=fire&$order=query_count DESC&$limit=1'\n",
    "response = requests.get(endpoint)\n",
    "max_fire = response.json()\n",
    "max_fire"
   ]
  },
  {
   "cell_type": "markdown",
   "id": "c3df0570",
   "metadata": {},
   "source": [
    "#### A1. August had the most searches for 'fire' at 47."
   ]
  },
  {
   "cell_type": "markdown",
   "id": "d140a61d",
   "metadata": {},
   "source": [
    "### Q2. Make an API request that returns all the times a query was run more than 100 times in a month. How many times did this occur?"
   ]
  },
  {
   "cell_type": "code",
   "execution_count": 7,
   "id": "db27dd15",
   "metadata": {},
   "outputs": [],
   "source": [
    "endpoint = 'https://data.nashville.gov/resource/fuaa-r5cm.json?$where=query_count > 100'\n",
    "response = requests.get(endpoint)\n",
    "over100 = response.json()\n",
    "# over100"
   ]
  },
  {
   "cell_type": "code",
   "execution_count": 8,
   "id": "a54b8770",
   "metadata": {
    "scrolled": true
   },
   "outputs": [
    {
     "data": {
      "text/plain": [
       "1000"
      ]
     },
     "execution_count": 8,
     "metadata": {},
     "output_type": "execute_result"
    }
   ],
   "source": [
    "times = len(over100)\n",
    "times\n",
    "# 1,000 looks too exact... investigating found this:\n",
    "# https://stackoverflow.com/questions/30941170/why-am-i-limited-to-1-000-rows-on-soda-api-when-i-have-an-app-key\n",
    "# It defaults to 1,000 records if limit is not specified"
   ]
  },
  {
   "cell_type": "code",
   "execution_count": 9,
   "id": "5c77f383",
   "metadata": {},
   "outputs": [
    {
     "data": {
      "text/plain": [
       "[{'count': '1262'}]"
      ]
     },
     "execution_count": 9,
     "metadata": {},
     "output_type": "execute_result"
    }
   ],
   "source": [
    "# I can specify a limit OR use count:\n",
    "# https://stackoverflow.com/questions/27823200/is-there-a-socrata-api-method-to-get-the-row-count-of-a-dataset\n",
    "endpoint = 'https://data.nashville.gov/resource/fuaa-r5cm.json?$select=count(*)&$where=query_count > 100'\n",
    "response = requests.get(endpoint)\n",
    "over100_count = response.json()\n",
    "over100_count"
   ]
  },
  {
   "cell_type": "markdown",
   "id": "1fed34b1",
   "metadata": {},
   "source": [
    "#### A2. 1,262 is the number of times a query was run more than 100 times in a month."
   ]
  },
  {
   "cell_type": "markdown",
   "id": "551f9d7b",
   "metadata": {},
   "source": [
    "### Q3. Make another API request that returns all the times \"codes\" was searched more than 100 times in a month. How many times did this occur?"
   ]
  },
  {
   "cell_type": "code",
   "execution_count": 12,
   "id": "fb0734bd",
   "metadata": {},
   "outputs": [
    {
     "data": {
      "text/plain": [
       "{'message': 'Query coordinator error: query.soql.no-such-column; No such column: codes; position: Map(row -> 1, column -> 66, line -> \"SELECT `query_text` WHERE `query_count` > 100 AND `query_text` = `codes`\\\\n                                                                 ^\")',\n",
       " 'errorCode': 'query.soql.no-such-column',\n",
       " 'data': {'column': 'codes',\n",
       "  'dataset': 'alpha.6008',\n",
       "  'position': {'row': 1,\n",
       "   'column': 66,\n",
       "   'line': 'SELECT `query_text` WHERE `query_count` > 100 AND `query_text` = `codes`\\n                                                                 ^'}}}"
      ]
     },
     "execution_count": 12,
     "metadata": {},
     "output_type": "execute_result"
    }
   ],
   "source": [
    "endpoint = 'https://data.nashville.gov/resource/fuaa-r5cm.json?$select=query_text&$where=query_count > 100 AND query_text=codes'\n",
    "response = requests.get(endpoint)\n",
    "over100_codes_count = response.json()\n",
    "over100_codes_count\n",
    "# Not working..."
   ]
  },
  {
   "cell_type": "code",
   "execution_count": 13,
   "id": "27abf1a6",
   "metadata": {},
   "outputs": [
    {
     "data": {
      "text/plain": [
       "{'message': 'Query coordinator error: query.soql.no-such-column; No such column: codes; position: Map(row -> 1, column -> 112, line -> \"SELECT `month_name`, `month`, `year`, `query_count`, `query_text` WHERE `query_count` > 100 AND `query_text` = `codes`\\\\n                                                                                                               ^\")',\n",
       " 'errorCode': 'query.soql.no-such-column',\n",
       " 'data': {'column': 'codes',\n",
       "  'dataset': 'alpha.6008',\n",
       "  'position': {'row': 1,\n",
       "   'column': 112,\n",
       "   'line': 'SELECT `month_name`, `month`, `year`, `query_count`, `query_text` WHERE `query_count` > 100 AND `query_text` = `codes`\\n                                                                                                               ^'}}}"
      ]
     },
     "execution_count": 13,
     "metadata": {},
     "output_type": "execute_result"
    }
   ],
   "source": [
    "# Omitting select:\n",
    "endpoint = 'https://data.nashville.gov/resource/fuaa-r5cm.json?$where=query_count > 100 AND query_text=codes'\n",
    "response = requests.get(endpoint)\n",
    "over100_codes_count = response.json()\n",
    "over100_codes_count\n",
    "# Still thinks codes is a column, maybe the where statement is wrong?"
   ]
  },
  {
   "cell_type": "code",
   "execution_count": 18,
   "id": "dc56dcd1",
   "metadata": {},
   "outputs": [
    {
     "data": {
      "text/plain": [
       "{'error': True, 'message': 'Unrecognized arguments [query_count > 100]'}"
      ]
     },
     "execution_count": 18,
     "metadata": {},
     "output_type": "execute_result"
    }
   ],
   "source": [
    "endpoint = 'https://data.nashville.gov/resource/fuaa-r5cm.json?query_text=codes&query_count > 100'\n",
    "response = requests.get(endpoint)\n",
    "over100_codes_count = response.json()\n",
    "over100_codes_count\n",
    "# A new error message means I'm getting closer right?!"
   ]
  },
  {
   "cell_type": "code",
   "execution_count": 20,
   "id": "83f0cb41",
   "metadata": {},
   "outputs": [
    {
     "data": {
      "text/plain": [
       "56"
      ]
     },
     "execution_count": 20,
     "metadata": {},
     "output_type": "execute_result"
    }
   ],
   "source": [
    "endpoint = 'https://data.nashville.gov/resource/fuaa-r5cm.json?query_text=codes&$where=query_count > 100'\n",
    "response = requests.get(endpoint)\n",
    "over100_codes_count = response.json()\n",
    "len(over100_codes_count)\n",
    "# Hope this is right"
   ]
  },
  {
   "cell_type": "markdown",
   "id": "5e0a19e6",
   "metadata": {},
   "source": [
    "#### A3. 56 is the number of times \"codes\" was searched more than 100 times in a month."
   ]
  },
  {
   "cell_type": "markdown",
   "id": "02fbfb7e",
   "metadata": {},
   "source": [
    "### Q4. Make an API request that returns the entire Top 500 Monthly Searches dataset. Make a chart that shows the number of times \"maps\" was searched in a month across the entire time frame."
   ]
  },
  {
   "cell_type": "code",
   "execution_count": null,
   "id": "668e5488",
   "metadata": {},
   "outputs": [],
   "source": []
  }
 ],
 "metadata": {
  "kernelspec": {
   "display_name": "Python 3 (ipykernel)",
   "language": "python",
   "name": "python3"
  },
  "language_info": {
   "codemirror_mode": {
    "name": "ipython",
    "version": 3
   },
   "file_extension": ".py",
   "mimetype": "text/x-python",
   "name": "python",
   "nbconvert_exporter": "python",
   "pygments_lexer": "ipython3",
   "version": "3.9.7"
  }
 },
 "nbformat": 4,
 "nbformat_minor": 5
}
