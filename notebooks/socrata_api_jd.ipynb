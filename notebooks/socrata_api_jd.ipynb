{
 "cells": [
  {
   "cell_type": "markdown",
   "id": "92840d00",
   "metadata": {},
   "source": [
    "# Socrata API Project - Nashville.gov Top 500 Monthly Searches"
   ]
  },
  {
   "cell_type": "code",
   "execution_count": null,
   "id": "5659026a",
   "metadata": {},
   "outputs": [],
   "source": [
    "import requests\n",
    "import matplotlib.pyplot as plt\n",
    "import pandas as pd"
   ]
  },
  {
   "cell_type": "markdown",
   "id": "50de8191",
   "metadata": {},
   "source": [
    "### Q1. Make an API request that returns the months where \"fire\" was searched in 2016. Which month had the most searches?"
   ]
  },
  {
   "cell_type": "code",
   "execution_count": null,
   "id": "c2b873dc",
   "metadata": {},
   "outputs": [],
   "source": [
    "endpoint = 'https://data.nashville.gov/resource/fuaa-r5cm.json?year=2016&query_text=fire'\n",
    "response = requests.get(endpoint)"
   ]
  },
  {
   "cell_type": "code",
   "execution_count": null,
   "id": "4f15cb06",
   "metadata": {},
   "outputs": [],
   "source": [
    "# Rudy: Can use parameters to pull the same thing\n",
    "# endpoint = 'https://data.nashville.gov/resource/fuaa-r5cm.json'\n",
    "# params = {\n",
    "#         \"year\": \"2016\",\n",
    "#         \"query_text\": \"fire\"    \n",
    "#     }\n",
    "# fires2016 = requests.get(endpoint, params = params)\n",
    "# fires2016.text"
   ]
  },
  {
   "cell_type": "code",
   "execution_count": null,
   "id": "f293955e",
   "metadata": {},
   "outputs": [],
   "source": [
    "response"
   ]
  },
  {
   "cell_type": "code",
   "execution_count": null,
   "id": "da6e8b08",
   "metadata": {
    "scrolled": false
   },
   "outputs": [],
   "source": [
    "res_2016_fire = response.json()\n",
    "res_2016_fire"
   ]
  },
  {
   "cell_type": "code",
   "execution_count": null,
   "id": "4bbb80f3",
   "metadata": {},
   "outputs": [],
   "source": [
    "# Order results by query_count DESC to get the max query_count first\n",
    "endpoint = 'https://data.nashville.gov/resource/fuaa-r5cm.json?year=2016&query_text=fire&$order=query_count DESC'\n",
    "response = requests.get(endpoint)\n",
    "max_fire = response.json()\n",
    "max_fire"
   ]
  },
  {
   "cell_type": "code",
   "execution_count": null,
   "id": "8f7455f9",
   "metadata": {},
   "outputs": [],
   "source": [
    "# Limit 1 to get the month with the top query_count for 'fire'\n",
    "endpoint = 'https://data.nashville.gov/resource/fuaa-r5cm.json?year=2016&query_text=fire&$order=query_count DESC&$limit=1'\n",
    "response = requests.get(endpoint)\n",
    "max_fire = response.json()\n",
    "max_fire"
   ]
  },
  {
   "cell_type": "markdown",
   "id": "c3df0570",
   "metadata": {},
   "source": [
    "#### A1. August had the most searches for 'fire' at 47."
   ]
  },
  {
   "cell_type": "markdown",
   "id": "d140a61d",
   "metadata": {},
   "source": [
    "### Q2. Make an API request that returns all the times a query was run more than 100 times in a month. How many times did this occur?"
   ]
  },
  {
   "cell_type": "code",
   "execution_count": null,
   "id": "db27dd15",
   "metadata": {},
   "outputs": [],
   "source": [
    "endpoint = 'https://data.nashville.gov/resource/fuaa-r5cm.json?$where=query_count > 100'\n",
    "response = requests.get(endpoint)\n",
    "over100 = response.json()\n",
    "# over100"
   ]
  },
  {
   "cell_type": "code",
   "execution_count": null,
   "id": "a54b8770",
   "metadata": {
    "scrolled": true
   },
   "outputs": [],
   "source": [
    "times = len(over100)\n",
    "times\n",
    "# 1,000 looks too exact... investigating found this:\n",
    "# https://stackoverflow.com/questions/30941170/why-am-i-limited-to-1-000-rows-on-soda-api-when-i-have-an-app-key\n",
    "# It defaults to 1,000 records if limit is not specified"
   ]
  },
  {
   "cell_type": "code",
   "execution_count": null,
   "id": "5c77f383",
   "metadata": {},
   "outputs": [],
   "source": [
    "# I can specify a limit OR use count:\n",
    "# https://stackoverflow.com/questions/27823200/is-there-a-socrata-api-method-to-get-the-row-count-of-a-dataset\n",
    "endpoint = 'https://data.nashville.gov/resource/fuaa-r5cm.json?$select=count(*)&$where=query_count > 100'\n",
    "response = requests.get(endpoint)\n",
    "over100_count = response.json()\n",
    "over100_count"
   ]
  },
  {
   "cell_type": "markdown",
   "id": "1fed34b1",
   "metadata": {},
   "source": [
    "#### A2. 1,262 is the number of times a query was run more than 100 times in a month."
   ]
  },
  {
   "cell_type": "markdown",
   "id": "551f9d7b",
   "metadata": {},
   "source": [
    "### Q3. Make another API request that returns all the times \"codes\" was searched more than 100 times in a month. How many times did this occur?"
   ]
  },
  {
   "cell_type": "code",
   "execution_count": null,
   "id": "3e5d74fe",
   "metadata": {},
   "outputs": [],
   "source": [
    "endpoint = 'https://data.nashville.gov/resource/fuaa-r5cm.json?$select=query_text&$where=query_count > 100 AND query_text=codes'\n",
    "response = requests.get(endpoint)\n",
    "over100_codes_count = response.json()\n",
    "over100_codes_count\n",
    "# Not working..."
   ]
  },
  {
   "cell_type": "code",
   "execution_count": null,
   "id": "5861087d",
   "metadata": {},
   "outputs": [],
   "source": [
    "# Omitting select:\n",
    "endpoint = 'https://data.nashville.gov/resource/fuaa-r5cm.json?$where=query_count > 100 AND query_text=codes'\n",
    "response = requests.get(endpoint)\n",
    "over100_codes_count = response.json()\n",
    "over100_codes_count\n",
    "# Still thinks codes is a column, maybe the where statement is wrong?"
   ]
  },
  {
   "cell_type": "code",
   "execution_count": null,
   "id": "c3134019",
   "metadata": {},
   "outputs": [],
   "source": [
    "endpoint = 'https://data.nashville.gov/resource/fuaa-r5cm.json?query_text=codes&query_count > 100'\n",
    "response = requests.get(endpoint)\n",
    "over100_codes_count = response.json()\n",
    "over100_codes_count\n",
    "# A new error message means I'm getting closer right?!"
   ]
  },
  {
   "cell_type": "code",
   "execution_count": null,
   "id": "e7bd5475",
   "metadata": {},
   "outputs": [],
   "source": [
    "endpoint = 'https://data.nashville.gov/resource/fuaa-r5cm.json?query_text=codes&$where=query_count > 100'\n",
    "response = requests.get(endpoint)\n",
    "over100_codes_count = response.json()\n",
    "len(over100_codes_count)"
   ]
  },
  {
   "cell_type": "code",
   "execution_count": null,
   "id": "3eded259",
   "metadata": {},
   "outputs": [],
   "source": [
    "# How others did it:\n",
    "\n",
    "# Patrick: $select=count(*)&$where=query_count > 100&query_text=codes'\n",
    "# Maggie: $query=select count(month_name) where query_count>100 AND query_text=\"codes\"'"
   ]
  },
  {
   "cell_type": "markdown",
   "id": "c20e4be1",
   "metadata": {},
   "source": [
    "#### A3. 56 is the number of times \"codes\" was searched more than 100 times in a month."
   ]
  },
  {
   "cell_type": "markdown",
   "id": "bcce0322",
   "metadata": {},
   "source": [
    "### Q4. Make an API request that returns the entire Top 500 Monthly Searches dataset. Make a chart that shows the number of times \"maps\" was searched in a month across the entire time frame."
   ]
  },
  {
   "cell_type": "markdown",
   "id": "83f36089",
   "metadata": {},
   "source": [
    "#### Interpretation 1: Find the number of times \"maps\" was searched month by month across the entire time frame."
   ]
  },
  {
   "cell_type": "code",
   "execution_count": null,
   "id": "d7ce851e",
   "metadata": {},
   "outputs": [],
   "source": [
    "# Let's check how many records are in this dataset\n",
    "endpoint = 'https://data.nashville.gov/resource/fuaa-r5cm.json?$select=count(*)'\n",
    "response = requests.get(endpoint)\n",
    "count = response.json()\n",
    "count"
   ]
  },
  {
   "cell_type": "code",
   "execution_count": null,
   "id": "da57a5ab",
   "metadata": {},
   "outputs": [],
   "source": [
    "# 43,677 records fit within the max limit parameter of 50k\n",
    "endpoint = 'https://data.nashville.gov/resource/fuaa-r5cm.json?$limit=50000'\n",
    "response = requests.get(endpoint)\n",
    "all = response.json()\n",
    "#all"
   ]
  },
  {
   "cell_type": "code",
   "execution_count": null,
   "id": "40a89fda",
   "metadata": {},
   "outputs": [],
   "source": [
    "# Same as above but with query_text=maps\n",
    "# https://stackoverflow.com/questions/59529516/import-all-rows-from-dataset-using-soda-api-python\n",
    "endpoint = 'https://data.nashville.gov/resource/fuaa-r5cm.json?query_text=maps&$limit=50000'\n",
    "response = requests.get(endpoint)\n",
    "maps = response.json()\n",
    "df = pd.DataFrame(maps)\n",
    "print(df.shape)"
   ]
  },
  {
   "cell_type": "code",
   "execution_count": null,
   "id": "6c77e981",
   "metadata": {},
   "outputs": [],
   "source": [
    "df.head()"
   ]
  },
  {
   "cell_type": "code",
   "execution_count": null,
   "id": "0a8a80b0",
   "metadata": {},
   "outputs": [],
   "source": [
    "# Remove query_text and month columns\n",
    "df = df.drop(columns=['query_text', 'month'], axis=1)\n",
    "df.head()"
   ]
  },
  {
   "cell_type": "code",
   "execution_count": null,
   "id": "4ac9f192",
   "metadata": {},
   "outputs": [],
   "source": [
    "# Adding a new col to combine month and year for x-axis\n",
    "df[\"monthyear\"] = df[\"month_name\"] + df[\"year\"]\n",
    "df.head()"
   ]
  },
  {
   "cell_type": "code",
   "execution_count": null,
   "id": "8c69d9b5",
   "metadata": {},
   "outputs": [],
   "source": [
    "# Convert query_count to numeric\n",
    "df[\"query_count\"] = pd.to_numeric(df[\"query_count\"])"
   ]
  },
  {
   "cell_type": "code",
   "execution_count": null,
   "id": "e02dbb89",
   "metadata": {},
   "outputs": [],
   "source": [
    "df.plot(x=\"monthyear\", y=\"query_count\", figsize=(18, 9))\n",
    "plt.title(\"Number of Times 'Maps' was Searched Across Entire Dataset\", fontsize=20)\n",
    "plt.xlabel(\"Month\", fontsize=15)\n",
    "plt.ylabel(\"Number of times 'maps' was searched\", fontsize=15)\n",
    "plt.show()"
   ]
  },
  {
   "cell_type": "markdown",
   "id": "bb03dd0d",
   "metadata": {},
   "source": [
    "#### Interpretation 2: Find the number of times \"maps\" was searched for EACH MONTH across the entire time frame."
   ]
  },
  {
   "cell_type": "code",
   "execution_count": null,
   "id": "9f6c3155",
   "metadata": {},
   "outputs": [],
   "source": [
    "# Abigail: '?$select=month_name,sum(query_count)&$group=month_name&$where=query_text=\"maps\"&$limit=50000'"
   ]
  },
  {
   "cell_type": "code",
   "execution_count": null,
   "id": "2b12c1d1",
   "metadata": {},
   "outputs": [],
   "source": [
    "endpoint_maps = 'https://data.nashville.gov/resource/fuaa-r5cm.json?query_text=maps&$limit=50000'\n",
    "response_maps = requests.get(endpoint_maps)\n",
    "maps2_df = pd.read_json(endpoint_maps)\n",
    "print(maps2_df.to_string()) "
   ]
  },
  {
   "cell_type": "code",
   "execution_count": null,
   "id": "1f17be13",
   "metadata": {
    "scrolled": false
   },
   "outputs": [],
   "source": [
    "maps2_df = pd.DataFrame(maps2_df)\n",
    "maps2_df"
   ]
  },
  {
   "cell_type": "code",
   "execution_count": null,
   "id": "a489a4e8",
   "metadata": {
    "scrolled": false
   },
   "outputs": [],
   "source": [
    "# https://stackoverflow.com/questions/59242019/pandas-sum-all-rows-with-the-same-month\n",
    "maps2_df = maps2_df.groupby(['month_name'])[['query_count']].sum().reset_index()\n",
    "maps2_df"
   ]
  },
  {
   "cell_type": "code",
   "execution_count": null,
   "id": "b5393636",
   "metadata": {},
   "outputs": [],
   "source": [
    "maps2_df[\"query_count\"] = pd.to_numeric(maps2_df[\"query_count\"])\n",
    "maps2_df"
   ]
  },
  {
   "cell_type": "code",
   "execution_count": null,
   "id": "9e163223",
   "metadata": {},
   "outputs": [],
   "source": [
    "maps2_df.sort_values(by=['query_count'], inplace=True, ascending=False)\n",
    "maps2_df"
   ]
  },
  {
   "cell_type": "code",
   "execution_count": null,
   "id": "af8c4457",
   "metadata": {},
   "outputs": [],
   "source": [
    "plt.figure(figsize=(18, 9)) # Figsize goes first\n",
    "plt.bar(maps2_df.month_name, maps2_df.query_count)\n",
    "plt.xlabel(\"Month\", fontsize=15)\n",
    "plt.ylabel(\"Search Count\", fontsize=15)\n",
    "plt.title(\"Total Searches for Map by Month\", fontsize=20)\n",
    "plt.xticks(rotation = 45)\n",
    "plt.show();\n",
    "# Thanks to Rudy for sharing his plot code"
   ]
  },
  {
   "cell_type": "markdown",
   "id": "80e8a895",
   "metadata": {},
   "source": [
    "Here is the result for the second interpretation. Big thanks to my group for helping me plot this (in order)!"
   ]
  },
  {
   "cell_type": "markdown",
   "id": "f9d6b38f",
   "metadata": {},
   "source": [
    "### Q5. Make an API request to pull back all the data from hubNashville (311) Service Requests (check to see how many rows you can return in a single request). Compare it to the Top 500 Monthly Searches data set. What do you observe? (This is open-ended, there isn't a specific answer for this one)"
   ]
  },
  {
   "cell_type": "code",
   "execution_count": null,
   "id": "dc28992d",
   "metadata": {},
   "outputs": [],
   "source": [
    "endpoint = 'https://data.nashville.gov/resource/7qhx-rexh.json?$select=count(*)&$limit=1000000' # don't need last part\n",
    "response = requests.get(endpoint)\n",
    "service = response.json()\n",
    "service"
   ]
  },
  {
   "cell_type": "markdown",
   "id": "08286585",
   "metadata": {},
   "source": [
    "#### A5. This dataset has 936,864 rows compared to the 43,677 rows from the Top 500 Monthly Searches data set."
   ]
  },
  {
   "cell_type": "markdown",
   "id": "5b7f3e5f",
   "metadata": {},
   "source": [
    "### Q6. Find 2 new data sets on data.nashville.gov, make API requests to pull the data, and do an analysis that combines the data sets."
   ]
  },
  {
   "cell_type": "markdown",
   "id": "168f61aa",
   "metadata": {},
   "source": [
    "Building Permit Applications & Building Permits Issued for Nashville"
   ]
  },
  {
   "cell_type": "code",
   "execution_count": null,
   "id": "279ee85e",
   "metadata": {},
   "outputs": [],
   "source": [
    "# Building Permit Applications\n",
    "endpoint1 = 'https://data.nashville.gov/resource/kqff-rxj8.json?city=NASHVILLE'\n",
    "response = requests.get(endpoint1)\n",
    "nash_bdg_apps = response.json()\n",
    "apps_df = pd.DataFrame(nash_bdg_apps)\n",
    "apps_df.head()"
   ]
  },
  {
   "cell_type": "code",
   "execution_count": null,
   "id": "401c5293",
   "metadata": {},
   "outputs": [],
   "source": [
    "# Building Permits Issued\n",
    "endpoint2 = 'https://data.nashville.gov/resource/3h5w-q8b7.json?city=NASHVILLE'\n",
    "response = requests.get(endpoint2)\n",
    "nash_bdg_permits = response.json()\n",
    "permits_df = pd.DataFrame(nash_bdg_permits)\n",
    "permits_df.head()"
   ]
  },
  {
   "cell_type": "markdown",
   "id": "cb6213a9",
   "metadata": {},
   "source": [
    "Our group ended up talking and never got to finishing this..."
   ]
  }
 ],
 "metadata": {
  "kernelspec": {
   "display_name": "Python 3 (ipykernel)",
   "language": "python",
   "name": "python3"
  },
  "language_info": {
   "codemirror_mode": {
    "name": "ipython",
    "version": 3
   },
   "file_extension": ".py",
   "mimetype": "text/x-python",
   "name": "python",
   "nbconvert_exporter": "python",
   "pygments_lexer": "ipython3",
   "version": "3.9.7"
  }
 },
 "nbformat": 4,
 "nbformat_minor": 5
}
